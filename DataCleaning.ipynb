{
 "cells": [
  {
   "cell_type": "code",
   "execution_count": 2,
   "metadata": {},
   "outputs": [],
   "source": [
    "import pandas as pd\n",
    "import numpy as np\n",
    "import os "
   ]
  },
  {
   "cell_type": "code",
   "execution_count": 10,
   "metadata": {},
   "outputs": [],
   "source": [
    "# Placeholder function to read CSV data\n",
    "def load_data(file_path, city_name):\n",
    "    try:\n",
    "        df = pd.read_csv(file_path)\n",
    "        df['city'] = city_name  # Add city name as a new column\n",
    "        return df\n",
    "    except FileNotFoundError:\n",
    "        print(f\"Error: File not found at {file_path}\")\n",
    "        return None"
   ]
  },
  {
   "cell_type": "code",
   "execution_count": 11,
   "metadata": {},
   "outputs": [],
   "source": [
    "# Directory where all city CSV files are stored\n",
    "data_directory = \"CityDatasets\"\n",
    "\n",
    "# List of city names and their corresponding file names\n",
    "city_data = [\n",
    "    {\"city\": \"Bengaluru\", \"file\": \"bengaluru-temp-rains.csv\"},\n",
    "    {\"city\": \"Mumbai\", \"file\": \"mumbai-temp-rains.csv\"},\n",
    "    {\"city\": \"Hyderabad\", \"file\": \"hyd-temp-rains.csv\"},\n",
    "    {\"city\": \"Chennai\", \"file\": \"chennai-temp-rains.csv\"},\n",
    "    {\"city\": \"Kolkata\", \"file\": \"kolkata-temp-rains.csv\"},\n",
    "    {\"city\": \"Pune\", \"file\": \"pune-temp-rains.csv\"},\n",
    "    {\"city\": \"Ahmedabad\", \"file\": \"amd-temp-rains.csv\"},\n",
    "    {\"city\": \"Delhi\", \"file\": \"delhi-temp-rains.csv\"}\n",
    "]\n",
    "\n",
    "# Initialize an empty list to store dataframes\n",
    "dfs = []"
   ]
  },
  {
   "cell_type": "code",
   "execution_count": null,
   "metadata": {},
   "outputs": [],
   "source": [
    "# Loop through each city and load data\n",
    "for city in city_data:\n",
    "    file_name = city[\"file\"]  # Use just the file name\n",
    "    city_name = city[\"city\"]\n",
    "    \n",
    "    # Construct the full file path\n",
    "    file_path = os.path.join(data_directory, file_name)\n",
    "    \n",
    "    # Load data using the full file path and add city name\n",
    "    df = load_data(file_path, city_name)\n",
    "    \n",
    "    # Append to list if dataframe loaded successfully\n",
    "    if df is not None:\n",
    "        dfs.append(df)"
   ]
  },
  {
   "cell_type": "code",
   "execution_count": 17,
   "metadata": {},
   "outputs": [],
   "source": [
    "combined_df = pd.concat(dfs, ignore_index=True)\n",
    "combined_df.to_csv(\"combined_city_data.csv\", index=False)"
   ]
  },
  {
   "cell_type": "markdown",
   "metadata": {},
   "source": [
    "# Data Cleaning"
   ]
  },
  {
   "cell_type": "code",
   "execution_count": 3,
   "metadata": {},
   "outputs": [],
   "source": [
    "df = pd.read_csv(\"combined_city_data.csv\")\n",
    "\n",
    "def convert_mixed_date(date):\n",
    "    try:\n",
    "        return pd.to_datetime(date, format=\"%d-%m-%Y\")  \n",
    "    except:\n",
    "        try:\n",
    "            return pd.to_datetime(\"1899-12-30\") + pd.to_timedelta(float(date), unit=\"D\")  \n",
    "        except:\n",
    "            return pd.NaT"
   ]
  },
  {
   "cell_type": "code",
   "execution_count": 4,
   "metadata": {},
   "outputs": [],
   "source": [
    "df['Date'] = df['Date'].astype(str).apply(convert_mixed_date)\n",
    "df['Date'] = df['Date'].ffill()\n",
    "df['Year'] = df['Date'].dt.year\n",
    "df['Month'] = df['Date'].dt.month\n",
    "df['Rain'] = df['Rain'].replace('Tr', 0.05)"
   ]
  },
  {
   "cell_type": "code",
   "execution_count": 5,
   "metadata": {},
   "outputs": [],
   "source": [
    "invalid_values = [\"----\", \"---\", \" \", \"\", \"NaN\", \"nan\"]\n",
    "df[['Rain', 'Temp Max', 'Temp Min']] = df[['Rain', 'Temp Max', 'Temp Min']].replace(invalid_values, np.nan)\n",
    "df[['Rain', 'Temp Max', 'Temp Min']] = df[['Rain', 'Temp Max', 'Temp Min']].apply(pd.to_numeric, errors='coerce')"
   ]
  },
  {
   "cell_type": "code",
   "execution_count": 6,
   "metadata": {},
   "outputs": [],
   "source": [
    "df['Rain'] = df.groupby(['city', 'Month'])['Rain'].transform(lambda x: x.fillna(x.median()))\n",
    "df['Temp Max'] = df.groupby(['city', 'Month'])['Temp Max'].transform(lambda x: x.fillna(x.median()))\n",
    "df['Temp Min'] = df.groupby(['city', 'Month'])['Temp Min'].transform(lambda x: x.fillna(x.median()))"
   ]
  },
  {
   "cell_type": "code",
   "execution_count": 7,
   "metadata": {},
   "outputs": [],
   "source": [
    "df.drop(columns=['Year', 'Month'], inplace=True)\n",
    "df.to_csv(\"cleaned_data.csv\", index=False)"
   ]
  },
  {
   "cell_type": "code",
   "execution_count": 11,
   "metadata": {},
   "outputs": [
    {
     "data": {
      "text/html": [
       "<div>\n",
       "<style scoped>\n",
       "    .dataframe tbody tr th:only-of-type {\n",
       "        vertical-align: middle;\n",
       "    }\n",
       "\n",
       "    .dataframe tbody tr th {\n",
       "        vertical-align: top;\n",
       "    }\n",
       "\n",
       "    .dataframe thead th {\n",
       "        text-align: right;\n",
       "    }\n",
       "</style>\n",
       "<table border=\"1\" class=\"dataframe\">\n",
       "  <thead>\n",
       "    <tr style=\"text-align: right;\">\n",
       "      <th></th>\n",
       "      <th>Date</th>\n",
       "      <th>Rain</th>\n",
       "      <th>Temp Max</th>\n",
       "      <th>Temp Min</th>\n",
       "      <th>city</th>\n",
       "    </tr>\n",
       "  </thead>\n",
       "  <tbody>\n",
       "    <tr>\n",
       "      <th>0</th>\n",
       "      <td>1951-01-01</td>\n",
       "      <td>0.0</td>\n",
       "      <td>26.969999</td>\n",
       "      <td>15.65</td>\n",
       "      <td>Bengaluru</td>\n",
       "    </tr>\n",
       "    <tr>\n",
       "      <th>1</th>\n",
       "      <td>1951-01-02</td>\n",
       "      <td>0.0</td>\n",
       "      <td>26.180000</td>\n",
       "      <td>14.69</td>\n",
       "      <td>Bengaluru</td>\n",
       "    </tr>\n",
       "    <tr>\n",
       "      <th>2</th>\n",
       "      <td>1951-01-03</td>\n",
       "      <td>0.0</td>\n",
       "      <td>26.309999</td>\n",
       "      <td>14.95</td>\n",
       "      <td>Bengaluru</td>\n",
       "    </tr>\n",
       "    <tr>\n",
       "      <th>3</th>\n",
       "      <td>1951-01-04</td>\n",
       "      <td>0.0</td>\n",
       "      <td>26.730000</td>\n",
       "      <td>14.84</td>\n",
       "      <td>Bengaluru</td>\n",
       "    </tr>\n",
       "    <tr>\n",
       "      <th>4</th>\n",
       "      <td>1951-01-05</td>\n",
       "      <td>0.0</td>\n",
       "      <td>26.930000</td>\n",
       "      <td>14.53</td>\n",
       "      <td>Bengaluru</td>\n",
       "    </tr>\n",
       "  </tbody>\n",
       "</table>\n",
       "</div>"
      ],
      "text/plain": [
       "         Date  Rain   Temp Max  Temp Min       city\n",
       "0  1951-01-01   0.0  26.969999     15.65  Bengaluru\n",
       "1  1951-01-02   0.0  26.180000     14.69  Bengaluru\n",
       "2  1951-01-03   0.0  26.309999     14.95  Bengaluru\n",
       "3  1951-01-04   0.0  26.730000     14.84  Bengaluru\n",
       "4  1951-01-05   0.0  26.930000     14.53  Bengaluru"
      ]
     },
     "execution_count": 11,
     "metadata": {},
     "output_type": "execute_result"
    }
   ],
   "source": [
    "df.head()"
   ]
  }
 ],
 "metadata": {
  "kernelspec": {
   "display_name": "Python 3",
   "language": "python",
   "name": "python3"
  },
  "language_info": {
   "codemirror_mode": {
    "name": "ipython",
    "version": 3
   },
   "file_extension": ".py",
   "mimetype": "text/x-python",
   "name": "python",
   "nbconvert_exporter": "python",
   "pygments_lexer": "ipython3",
   "version": "3.12.9"
  }
 },
 "nbformat": 4,
 "nbformat_minor": 2
}
